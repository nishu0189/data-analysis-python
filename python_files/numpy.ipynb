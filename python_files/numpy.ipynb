{
 "cells": [
  {
   "cell_type": "markdown",
   "id": "05de3b91-e754-4703-9731-b128e76b35cc",
   "metadata": {},
   "source": [
    "## list of array functions in Numphy here:\n",
    "https://numpy.org/doc/stable/reference/routines.html"
   ]
  },
  {
   "cell_type": "markdown",
   "id": "4ebb5e96-1f81-4fb7-8a5d-f2d472b61888",
   "metadata": {},
   "source": [
    "# Working with numerical data\n",
    "\n",
    "The \"data\" in Data Analysis typically refers to numerical data, e.g., stock prices, sales figures, sensor measurements, sports scores, database tables, etc. The Numpy library provides specialized data structures, functions, and other tools for numerical computing in Python. Let's work through an example to see why & how to use Numpy for working with numerical data.\n",
    "\n",
    "Suppose we want to use climate data like the temperature, rainfall, and humidity to determine if a region is well suited for growing apples. A simple approach for doing this would be to formulate the relationship between the annual yield of apples (tons per hectare) and the climatic conditions like the average temperature (in degrees Fahrenheit), rainfall (in millimeters) & average relative humidity (in percentage) as a linear equation.\n",
    "\n",
    "yield_of_apples = w1 * temperature + w2 * rainfall + w3 * humidity\n",
    "\n",
    "We're expressing the yield of apples as a weighted sum of the temperature, rainfall, and humidity. This equation is an approximation since the actual relationship may not necessarily be linear, and there may be other factors involved. But a simple linear model like this often works well in practice.\n",
    "\n",
    "Based on some statical analysis of historical data, we might come up with reasonable values for the weights w1, w2, and w3. Here's an example set of values:"
   ]
  },
  {
   "attachments": {},
   "cell_type": "markdown",
   "id": "e4b78730-0cbe-4e20-a3f1-d7ca87bb8c6d",
   "metadata": {},
   "source": [
    "\n",
    "Given some climate data for a region, we can now predict the yield of apples. Here's some sample data:\n",
    "\n",
    "![Chart](https://i.imgur.com/TXPBiqv.png)\n",
    "\n",
    "\n",
    "To begin, we can define some variables to record climate data for a region."
   ]
  },
  {
   "cell_type": "code",
   "execution_count": 39,
   "id": "5135824f-8cea-4f6a-9d61-3c7b52c87f38",
   "metadata": {},
   "outputs": [],
   "source": [
    "w1, w2, w3 = 0.3, 0.2, 0.5"
   ]
  },
  {
   "cell_type": "code",
   "execution_count": 43,
   "id": "81beef7e-dfa0-4b67-bb78-e3b13782639b",
   "metadata": {},
   "outputs": [],
   "source": [
    "kanto = [73, 67, 43]\n",
    "johto = [91, 88, 64]\n",
    "hoenn = [87, 134, 58]\n",
    "sinnoh = [102, 43, 37]\n",
    "unova = [69, 96, 70]"
   ]
  },
  {
   "cell_type": "code",
   "execution_count": 21,
   "id": "fe07911b-c6a4-4de7-9862-6c9126a57281",
   "metadata": {},
   "outputs": [],
   "source": [
    "weight = [w1,w2,w3]"
   ]
  },
  {
   "cell_type": "markdown",
   "id": "58ce887d-9dc2-4b78-ba41-e347813d6b5c",
   "metadata": {},
   "source": [
    "# ZIP :-\n",
    "n is used to combine two or more iterables (like lists, tuples, etc.) element-wise into pairs (or tuples).\n"
   ]
  },
  {
   "cell_type": "code",
   "execution_count": 49,
   "id": "641b2d9f-169a-4332-9c8d-3e54edd03b23",
   "metadata": {},
   "outputs": [
    {
     "name": "stdout",
     "output_type": "stream",
     "text": [
      "[('Avi', 40), ('Sam', 80), ('Sre', 100)]\n"
     ]
    }
   ],
   "source": [
    "# Example of ZIP\n",
    "\n",
    "names = [\"Avi\",\"Sam\",\"Sre\"]\n",
    "scores = [40,80,100]\n",
    "\n",
    "zipped = zip(names,scores) # output basically in tuple \n",
    "print(list(zipped))    # change tuple to list"
   ]
  },
  {
   "cell_type": "code",
   "execution_count": 53,
   "id": "b3f9ed2c-a7e3-4531-b44e-fefc902f6402",
   "metadata": {},
   "outputs": [
    {
     "name": "stdout",
     "output_type": "stream",
     "text": [
      "(73, 0.3)\n",
      "(67, 0.2)\n",
      "(43, 0.5)\n"
     ]
    }
   ],
   "source": [
    "for item in zip(kanto,weight):\n",
    "    print(item)"
   ]
  },
  {
   "cell_type": "code",
   "execution_count": 57,
   "id": "2f1c5e95-c19e-4a9c-80c5-fe9778202e12",
   "metadata": {},
   "outputs": [
    {
     "name": "stdout",
     "output_type": "stream",
     "text": [
      "73\n",
      "0.3\n",
      "67\n",
      "0.2\n",
      "43\n",
      "0.5\n"
     ]
    }
   ],
   "source": [
    "for x,w in zip(kanto,weight):\n",
    "    print(x) #kanto\n",
    "    print(w) #weight\n"
   ]
  },
  {
   "cell_type": "markdown",
   "id": "42a772d8-fe84-42e6-9882-5c6e516102f3",
   "metadata": {},
   "source": [
    "\n",
    "## Function for yield_of_apples"
   ]
  },
  {
   "cell_type": "code",
   "execution_count": 263,
   "id": "59529d93-19fd-47ae-a984-289eac59e7e5",
   "metadata": {},
   "outputs": [],
   "source": [
    "def yield_of_apples(region,weight):\n",
    "    result = 0\n",
    "    for r,w in zip(region,weight):\n",
    "        result += r * w\n",
    "\n",
    "    return result"
   ]
  },
  {
   "cell_type": "code",
   "execution_count": 265,
   "id": "2dae7eb3-6bc5-4a45-96b9-3c2e855c0a69",
   "metadata": {},
   "outputs": [
    {
     "data": {
      "text/plain": [
       "56.8"
      ]
     },
     "execution_count": 265,
     "metadata": {},
     "output_type": "execute_result"
    }
   ],
   "source": [
    "yield_of_apples(kanto,weight)"
   ]
  },
  {
   "cell_type": "code",
   "execution_count": 64,
   "id": "e7b742a2-bed6-4020-8abc-18b8ee17383a",
   "metadata": {},
   "outputs": [
    {
     "data": {
      "text/plain": [
       "76.9"
      ]
     },
     "execution_count": 64,
     "metadata": {},
     "output_type": "execute_result"
    }
   ],
   "source": [
    "yield_of_apples(johto,weight)"
   ]
  },
  {
   "cell_type": "code",
   "execution_count": 1,
   "id": "307192fe-197d-492e-9181-e2d099be395c",
   "metadata": {},
   "outputs": [],
   "source": [
    "import numpy as np"
   ]
  },
  {
   "cell_type": "markdown",
   "id": "6cb1f89e-dd8f-4c88-9518-d325bbf5b883",
   "metadata": {},
   "source": [
    "## Going from Python lists to Numpy arrays\n",
    "The calculation performed by the crop_yield (element-wise multiplication of two vectors and taking a sum of the results) is also called the dot product. \n",
    "\n",
    "The Numpy library provides a built-in function to compute the dot product of two vectors. However, we must first convert the lists into Numpy arrays.\n"
   ]
  },
  {
   "cell_type": "code",
   "execution_count": 7,
   "id": "f958b334-1e76-4a79-8315-8a3562227edd",
   "metadata": {},
   "outputs": [],
   "source": [
    "# can be installed the numpy like this :- ! pip install numpy "
   ]
  },
  {
   "cell_type": "code",
   "execution_count": 27,
   "id": "6bfb6ab7-aed1-4404-a414-63cebbd7e3a6",
   "metadata": {},
   "outputs": [],
   "source": [
    "import numpy as np"
   ]
  },
  {
   "cell_type": "code",
   "execution_count": 31,
   "id": "bb2e3a5e-371c-480e-98c4-7aa1732d633d",
   "metadata": {},
   "outputs": [
    {
     "name": "stdout",
     "output_type": "stream",
     "text": [
      "1.26.4\n"
     ]
    }
   ],
   "source": [
    "print(np.__version__)"
   ]
  },
  {
   "cell_type": "code",
   "execution_count": 33,
   "id": "c6e5ccda-9c33-4212-a9be-9a297df3d737",
   "metadata": {},
   "outputs": [],
   "source": [
    "kanto = np.array([73,67,43])"
   ]
  },
  {
   "cell_type": "code",
   "execution_count": 35,
   "id": "65e2173c-2fa9-4345-bde9-8f7a1894a4f3",
   "metadata": {},
   "outputs": [
    {
     "data": {
      "text/plain": [
       "array([73, 67, 43])"
      ]
     },
     "execution_count": 35,
     "metadata": {},
     "output_type": "execute_result"
    }
   ],
   "source": [
    "kanto"
   ]
  },
  {
   "cell_type": "code",
   "execution_count": 41,
   "id": "bf76f653-d765-4413-b05f-e7d49ea679b1",
   "metadata": {},
   "outputs": [],
   "source": [
    "weight = np.array([w1,w2,w3])"
   ]
  },
  {
   "cell_type": "code",
   "execution_count": 97,
   "id": "4c641ca7-0c77-4bec-a759-beb9471d41ad",
   "metadata": {},
   "outputs": [
    {
     "data": {
      "text/plain": [
       "array([0.3, 0.2, 0.5])"
      ]
     },
     "execution_count": 97,
     "metadata": {},
     "output_type": "execute_result"
    }
   ],
   "source": [
    "weight"
   ]
  },
  {
   "cell_type": "code",
   "execution_count": 79,
   "id": "f4e5a708-f808-4e0d-badc-8440b73ac7d5",
   "metadata": {},
   "outputs": [
    {
     "data": {
      "text/plain": [
       "numpy.ndarray"
      ]
     },
     "execution_count": 79,
     "metadata": {},
     "output_type": "execute_result"
    }
   ],
   "source": [
    "type(kanto)"
   ]
  },
  {
   "cell_type": "code",
   "execution_count": 81,
   "id": "d451181d-907c-4c78-a15e-4e39419055c8",
   "metadata": {},
   "outputs": [
    {
     "data": {
      "text/plain": [
       "numpy.ndarray"
      ]
     },
     "execution_count": 81,
     "metadata": {},
     "output_type": "execute_result"
    }
   ],
   "source": [
    "type(weight)"
   ]
  },
  {
   "cell_type": "code",
   "execution_count": 103,
   "id": "75c4dfc2-afc8-46ff-9dcb-7f18654869af",
   "metadata": {},
   "outputs": [
    {
     "data": {
      "text/plain": [
       "0.3"
      ]
     },
     "execution_count": 103,
     "metadata": {},
     "output_type": "execute_result"
    }
   ],
   "source": [
    "weight[0]"
   ]
  },
  {
   "cell_type": "markdown",
   "id": "f8cc1310-8715-494e-ac37-0a942fde24ff",
   "metadata": {},
   "source": [
    "## Operating on Numpy arrays\n",
    "\n",
    "We can now compute the dot product of the two vectors using the `np.dot` function."
   ]
  },
  {
   "cell_type": "code",
   "execution_count": null,
   "id": "159f8b70-6c6d-4ba9-8a14-b5379a6d0ac0",
   "metadata": {},
   "outputs": [],
   "source": [
    "help(np.dot)"
   ]
  },
  {
   "cell_type": "code",
   "execution_count": 45,
   "id": "b7ceb038-f782-4a56-99c7-d8fd42ddf320",
   "metadata": {},
   "outputs": [
    {
     "data": {
      "text/plain": [
       "56.8"
      ]
     },
     "execution_count": 45,
     "metadata": {},
     "output_type": "execute_result"
    }
   ],
   "source": [
    "np.dot(kanto,weight)"
   ]
  },
  {
   "cell_type": "markdown",
   "id": "ab8e62be-3df9-46bc-b6d8-b83926a978dd",
   "metadata": {},
   "source": [
    "We can achieve the same result with low-level operations supported by Numpy arrays: performing an element-wise multiplication and calculating the resulting numbers' sum."
   ]
  },
  {
   "cell_type": "code",
   "execution_count": 52,
   "id": "b6db34fd-2b6d-49d3-b087-13c652c6b8f2",
   "metadata": {},
   "outputs": [
    {
     "data": {
      "text/plain": [
       "56.8"
      ]
     },
     "execution_count": 52,
     "metadata": {},
     "output_type": "execute_result"
    }
   ],
   "source": [
    "(kanto*weight).sum()"
   ]
  },
  {
   "cell_type": "markdown",
   "id": "60a4c78d-2f2f-4cee-8ba7-b5c2a461eddf",
   "metadata": {},
   "source": [
    "The `*` operator performs an element-wise multiplication of two arrays if they have the same size. The `sum` method calculates the sum of numbers in an array."
   ]
  },
  {
   "cell_type": "code",
   "execution_count": 71,
   "id": "203da8fc-7f42-4da9-adff-22b93b0efa0f",
   "metadata": {},
   "outputs": [],
   "source": [
    "arr1 = np.array([1,1,2])\n",
    "arr2 = np.array([9,8,7])"
   ]
  },
  {
   "cell_type": "code",
   "execution_count": 73,
   "id": "efcaa6e9-2f17-49cb-b890-46591fae3f47",
   "metadata": {},
   "outputs": [
    {
     "data": {
      "text/plain": [
       "array([ 9,  8, 14])"
      ]
     },
     "execution_count": 73,
     "metadata": {},
     "output_type": "execute_result"
    }
   ],
   "source": [
    "arr1 * arr2"
   ]
  },
  {
   "cell_type": "code",
   "execution_count": 75,
   "id": "a1645811-eb49-42ed-8015-6daca7d0a331",
   "metadata": {},
   "outputs": [
    {
     "data": {
      "text/plain": [
       "4"
      ]
     },
     "execution_count": 75,
     "metadata": {},
     "output_type": "execute_result"
    }
   ],
   "source": [
    "arr1.sum()"
   ]
  },
  {
   "cell_type": "markdown",
   "id": "10d3a4d7-63f1-4351-a3ec-16063a600bdc",
   "metadata": {},
   "source": [
    "## Benefits of using Numpy arrays\n",
    "\n",
    "Numpy arrays offer the following benefits over Python lists for operating on numerical data:\n",
    "\n",
    "- **Ease of use**: You can write small, concise, and intuitive mathematical expressions like `(kanto * weights).sum()` rather than using loops & custom functions like `crop_yield`.\n",
    "- **Performance**: Numpy operations and functions are implemented internally in C++, which makes them much faster than using Python statements & loops that are interpreted at runtime\n",
    "\n",
    "Here's a comparison of dot products performed using Python loops vs. Numpy arrays on two vectors with a million elements each."
   ]
  },
  {
   "cell_type": "code",
   "execution_count": 176,
   "id": "b942f089-30b1-446b-b3cb-66d11c15abd7",
   "metadata": {},
   "outputs": [],
   "source": [
    "#python arrays\n",
    "arr1 = list(range(1000000))\n",
    "arr2 = list(range(1000000,2000000))\n",
    "\n",
    "#Numpy arrays\n",
    "arr1_np = np.array(arr1, dtype=np.int64) #dtype=np.int64 is used avoid the overflow and -ve val\n",
    "arr2_np = np.array(arr2 , dtype=np.int64)"
   ]
  },
  {
   "cell_type": "markdown",
   "id": "a65b214a-76af-461f-8258-8f34cc6e29ec",
   "metadata": {},
   "source": [
    "# %%time :-\n",
    "It is the jupyter magic command that measure the time it take to run the entire cell. It is very usefull when you're comparing the speed of different approaches(like list vs numpy arrays)"
   ]
  },
  {
   "cell_type": "code",
   "execution_count": 179,
   "id": "308720bc-c431-4430-9177-147c282b8b73",
   "metadata": {},
   "outputs": [
    {
     "name": "stdout",
     "output_type": "stream",
     "text": [
      "CPU times: total: 422 ms\n",
      "Wall time: 442 ms\n"
     ]
    },
    {
     "data": {
      "text/plain": [
       "833332333333500000"
      ]
     },
     "execution_count": 179,
     "metadata": {},
     "output_type": "execute_result"
    }
   ],
   "source": [
    "%%time\n",
    "\n",
    "result=0\n",
    "for a1, a2 in zip(arr1,arr2):\n",
    "    result += a1*a2\n",
    "\n",
    "result"
   ]
  },
  {
   "cell_type": "code",
   "execution_count": 183,
   "id": "c290f4e9-3dcf-4bd4-863b-5d6007cf2f31",
   "metadata": {},
   "outputs": [
    {
     "name": "stdout",
     "output_type": "stream",
     "text": [
      "CPU times: total: 0 ns\n",
      "Wall time: 2.02 ms\n"
     ]
    },
    {
     "data": {
      "text/plain": [
       "833332333333500000"
      ]
     },
     "execution_count": 183,
     "metadata": {},
     "output_type": "execute_result"
    }
   ],
   "source": [
    "%%time\n",
    "\n",
    "np.dot(arr1_np,arr2_np) #less time taken and it is really usefull for large datasets"
   ]
  },
  {
   "cell_type": "markdown",
   "id": "1743d649-1e65-4633-80e5-a3c68e8f1924",
   "metadata": {},
   "source": [
    "## WALL TIME:- \n",
    "is the actual time taken from the start to finish to execute a block of code \n"
   ]
  },
  {
   "cell_type": "markdown",
   "id": "3c3aca65-e9f3-4cb9-81bd-8cfca1c8dfa9",
   "metadata": {},
   "source": [
    "## Multi-dimensional Numpy arrays \n",
    "we can represent the climate data for all the regions using a single 2-dimensional Numpy array.Each row represents one region, and the columns represent temperature, rainfall, and humidity, respectively."
   ]
  },
  {
   "cell_type": "code",
   "execution_count": 192,
   "id": "7cee4dab-5d3b-4fcd-ac9a-5c1240a13973",
   "metadata": {},
   "outputs": [],
   "source": [
    "climate_data = np.array([[73, 67, 43],\n",
    "                         [91, 88, 64],\n",
    "                         [87, 134, 58],\n",
    "                         [102, 43, 37],\n",
    "                         [69, 96, 70]])"
   ]
  },
  {
   "cell_type": "code",
   "execution_count": 194,
   "id": "3a13ac4a-65ce-4de8-a473-2ed1bcf535ab",
   "metadata": {},
   "outputs": [
    {
     "data": {
      "text/plain": [
       "array([[ 73,  67,  43],\n",
       "       [ 91,  88,  64],\n",
       "       [ 87, 134,  58],\n",
       "       [102,  43,  37],\n",
       "       [ 69,  96,  70]])"
      ]
     },
     "execution_count": 194,
     "metadata": {},
     "output_type": "execute_result"
    }
   ],
   "source": [
    "climate_data"
   ]
  },
  {
   "cell_type": "markdown",
   "id": "647749ad-ffae-437e-9127-5ed414b5da3a",
   "metadata": {},
   "source": [
    "Numpy arrays can have any number of dimensions and different lengths along each dimension. We can inspect the length along each dimension using the `.shape` property of an array.\n",
    "\n",
    "<img src=\"https://fgnt.github.io/python_crashkurs_doc/_images/numpy_array_t.png\" width=\"420\">\n"
   ]
  },
  {
   "cell_type": "code",
   "execution_count": 217,
   "id": "6eef13f8-e6ad-4306-92f1-63f8e2ddfb45",
   "metadata": {},
   "outputs": [
    {
     "data": {
      "text/plain": [
       "(3,)"
      ]
     },
     "execution_count": 217,
     "metadata": {},
     "output_type": "execute_result"
    }
   ],
   "source": [
    "# 1D Array\n",
    "weight.shape"
   ]
  },
  {
   "cell_type": "code",
   "execution_count": 219,
   "id": "8ad6a607-78b4-43f6-8941-7f89daf33376",
   "metadata": {},
   "outputs": [
    {
     "data": {
      "text/plain": [
       "(5, 3)"
      ]
     },
     "execution_count": 219,
     "metadata": {},
     "output_type": "execute_result"
    }
   ],
   "source": [
    "#2d array (matrix) \n",
    "climate_data.shape "
   ]
  },
  {
   "cell_type": "code",
   "execution_count": 227,
   "id": "53d2a918-8741-40c1-bcd8-c2958a707e83",
   "metadata": {},
   "outputs": [],
   "source": [
    "# 3D array \n",
    "arr3 = np.array([\n",
    "    [[11, 12, 13], \n",
    "     [13, 14, 15]], \n",
    "    [[15, 16, 17], \n",
    "     [17, 18, 19.5]]])"
   ]
  },
  {
   "cell_type": "code",
   "execution_count": 229,
   "id": "bfb475b9-3ba0-4d1d-838d-f756b94886b7",
   "metadata": {},
   "outputs": [
    {
     "data": {
      "text/plain": [
       "(2, 2, 3)"
      ]
     },
     "execution_count": 229,
     "metadata": {},
     "output_type": "execute_result"
    }
   ],
   "source": [
    "arr3.shape"
   ]
  },
  {
   "attachments": {
    "9f01dfd6-8982-40aa-a4d5-0fae746c4929.png": {
     "image/png": "[encoded data removed]"
    }
   },
   "cell_type": "markdown",
   "id": "86cb44b2-2df7-4ef6-8027-62af77c89000",
   "metadata": {},
   "source": [
    "# datatype in Numpy\n",
    "## Common Numpy Data type (dtypes) :-\n",
    "\n",
    "Data type    \n",
    "\n",
    "![Screenshot 2025-04-25 145153.png](attachment:9f01dfd6-8982-40aa-a4d5-0fae746c4929.png)\n",
    "\n",
    "##  How to check an array's data type:"
   ]
  },
  {
   "cell_type": "code",
   "execution_count": 233,
   "id": "ca505f9a-df9c-4dde-add5-a4501103b844",
   "metadata": {},
   "outputs": [
    {
     "data": {
      "text/plain": [
       "dtype('float64')"
      ]
     },
     "execution_count": 233,
     "metadata": {},
     "output_type": "execute_result"
    }
   ],
   "source": [
    "weight.dtype"
   ]
  },
  {
   "cell_type": "code",
   "execution_count": 242,
   "id": "1bc6d812-f4ff-46a0-afd7-481c0e2d7489",
   "metadata": {},
   "outputs": [
    {
     "name": "stdout",
     "output_type": "stream",
     "text": [
      "int32\n"
     ]
    }
   ],
   "source": [
    "arri = np.array([1,2,2,3])\n",
    "print(arri.dtype)"
   ]
  },
  {
   "cell_type": "code",
   "execution_count": 255,
   "id": "b379157c-70b2-4837-8560-5da22a4295d5",
   "metadata": {},
   "outputs": [
    {
     "name": "stdout",
     "output_type": "stream",
     "text": [
      "float64\n"
     ]
    }
   ],
   "source": [
    "arr3 = np.array([1,2,3,4.9]) # If an array contains even a single floating point number, all the other elements are also converted to floats.\n",
    "print(arr3.dtype)"
   ]
  },
  {
   "cell_type": "markdown",
   "id": "2780b828-81ec-49cb-a753-3b77e034d81f",
   "metadata": {},
   "source": [
    "## How to set a specific data type"
   ]
  },
  {
   "cell_type": "code",
   "execution_count": 247,
   "id": "c8cbf027-673f-49cb-9913-087049b60654",
   "metadata": {},
   "outputs": [
    {
     "name": "stdout",
     "output_type": "stream",
     "text": [
      "float32\n"
     ]
    }
   ],
   "source": [
    "arri = np.array([1,2,2,3], np.float32)\n",
    "print(arri.dtype)"
   ]
  },
  {
   "cell_type": "code",
   "execution_count": 249,
   "id": "79b78ba5-fa92-43f8-a07b-163be481a038",
   "metadata": {},
   "outputs": [
    {
     "data": {
      "text/plain": [
       "dtype('int32')"
      ]
     },
     "execution_count": 249,
     "metadata": {},
     "output_type": "execute_result"
    }
   ],
   "source": [
    "climate_data.dtype"
   ]
  },
  {
   "cell_type": "markdown",
   "id": "0e89bf6b-9085-4797-a987-8a058d4a2f38",
   "metadata": {},
   "source": [
    "We can now compute the predicted yields of apples in all the regions, using a single matrix multiplication between `climate_data` (a 5x3 matrix) and `weights` (a vector of length 3). Here's what it looks like visually:\n",
    "\n",
    "<img src=\"https://i.imgur.com/LJ2WKSI.png\" width=\"240\">\n"
   ]
  },
  {
   "cell_type": "markdown",
   "id": "a1a1d8f4-446b-48a0-9db2-37e677c02f4c",
   "metadata": {},
   "source": [
    "# MATRIX MULTIPLICATION\n",
    "## 1. using matmul :- \n",
    "## 2. using @ :-"
   ]
  },
  {
   "cell_type": "code",
   "execution_count": 278,
   "id": "ab79efb9-a26b-45b6-a61c-511abebe0a10",
   "metadata": {},
   "outputs": [
    {
     "data": {
      "text/plain": [
       "array([56.8, 76.9, 81.9, 57.7, 74.9])"
      ]
     },
     "execution_count": 278,
     "metadata": {},
     "output_type": "execute_result"
    }
   ],
   "source": [
    "#1.\n",
    "np.matmul(climate_data, weight) "
   ]
  },
  {
   "cell_type": "code",
   "execution_count": 282,
   "id": "66dcfcb4-e28b-4f64-94d9-a99af7cde5ce",
   "metadata": {},
   "outputs": [
    {
     "data": {
      "text/plain": [
       "array([56.8, 76.9, 81.9, 57.7, 74.9])"
      ]
     },
     "execution_count": 282,
     "metadata": {},
     "output_type": "execute_result"
    }
   ],
   "source": [
    "#2.\n",
    "climate_data @ weight"
   ]
  },
  {
   "cell_type": "code",
   "execution_count": 267,
   "id": "ca5de888-e224-482e-9774-376344522529",
   "metadata": {},
   "outputs": [
    {
     "data": {
      "text/plain": [
       "array([[ 73,  67,  43],\n",
       "       [ 91,  88,  64],\n",
       "       [ 87, 134,  58],\n",
       "       [102,  43,  37],\n",
       "       [ 69,  96,  70]])"
      ]
     },
     "execution_count": 267,
     "metadata": {},
     "output_type": "execute_result"
    }
   ],
   "source": [
    "climate_data"
   ]
  },
  {
   "cell_type": "markdown",
   "id": "b6490d3f-17ab-487e-bc73-52334e1b2f4d",
   "metadata": {},
   "source": [
    "## Working with CSV data files\n",
    "\n",
    "Numpy also provides helper functions reading from & writing to files. Let's download a file `climate.txt`, which contains 10,000 climate measurements (temperature, rainfall & humidity) in the following format:\n",
    "\n",
    "\n",
    "```\n",
    "temperature,rainfall,humidity\n",
    "25.00,76.00,99.00\n",
    "39.00,65.00,70.00\n",
    "59.00,45.00,77.00\n",
    "84.00,63.00,38.00\n",
    "66.00,50.00,52.00\n",
    "41.00,94.00,77.00\n",
    "91.00,57.00,96.00\n",
    "49.00,96.00,99.00\n",
    "67.00,20.00,28.00\n",
    "...\n",
    "```\n",
    "\n",
    "This format of storing data is known as *comma-separated values* or CSV. \n",
    "\n",
    "> **CSVs**: A comma-separated values (CSV) file is a delimited text file that uses a comma to separate values. Each line of the file is a data record. Each record consists of one or more fields, separated by commas. A CSV file typically stores tabular data (numbers and text) in plain text, in which case each line will have the same number of fields. (Wikipedia)\n",
    "\n",
    "\n",
    "To read this file into a numpy array, we can use the `genfromtxt` function."
   ]
  },
  {
   "cell_type": "code",
   "execution_count": 291,
   "id": "0dbda38e-0cc5-47c0-b92d-60f86694676f",
   "metadata": {},
   "outputs": [
    {
     "data": {
      "text/plain": [
       "('climate.txt', <http.client.HTTPMessage at 0x231138b8e30>)"
      ]
     },
     "execution_count": 291,
     "metadata": {},
     "output_type": "execute_result"
    }
   ],
   "source": [
    "import urllib.request\n",
    "\n",
    "urllib.request.urlretrieve(\n",
    "    'https://gist.github.com/BirajCoder/a4ffcb76fd6fb221d76ac2ee2b8584e9/raw/4054f90adfd361b7aa4255e99c2e874664094cea/climate.csv', \n",
    "    'climate.txt')"
   ]
  },
  {
   "cell_type": "markdown",
   "id": "73608f91-f72f-4748-b9b0-25a3f7bced2f",
   "metadata": {},
   "source": [
    "## genfromtxt :-\n",
    "numpy's fuction to load the contents of climate.txt into numpy array.\n",
    "#### climate_data = np.genfromtxt('climate.txt',delimiter=',',skip_header = 1)\n",
    "#### climate_data => array \n",
    "#### climate.txt=>\n",
    " file from which content load\n",
    "#### delimiter=',' => \n",
    "Tells NumPy that the data is comma-separated (CSV format).\n",
    "#### skip_header=1 => \n",
    "skip the 1st row , assuming it's a header with col names (e.g., \"temperature, rainfall, humidity\")."
   ]
  },
  {
   "cell_type": "code",
   "execution_count": 297,
   "id": "98b1908c-f803-46c9-8632-c1ee953f7229",
   "metadata": {},
   "outputs": [],
   "source": [
    "climate_data = np.genfromtxt('climate.txt',delimiter=',',skip_header = 1)"
   ]
  },
  {
   "cell_type": "code",
   "execution_count": 299,
   "id": "7eca7230-c41d-4254-82b4-cac2d64cfda8",
   "metadata": {},
   "outputs": [
    {
     "data": {
      "text/plain": [
       "array([[25., 76., 99.],\n",
       "       [39., 65., 70.],\n",
       "       [59., 45., 77.],\n",
       "       ...,\n",
       "       [99., 62., 58.],\n",
       "       [70., 71., 91.],\n",
       "       [92., 39., 76.]])"
      ]
     },
     "execution_count": 299,
     "metadata": {},
     "output_type": "execute_result"
    }
   ],
   "source": [
    "climate_data"
   ]
  },
  {
   "cell_type": "code",
   "execution_count": 307,
   "id": "39c7d704-9ee7-4aaf-890c-7fa06d268043",
   "metadata": {},
   "outputs": [
    {
     "data": {
      "text/plain": [
       "(10000, 3)"
      ]
     },
     "execution_count": 307,
     "metadata": {},
     "output_type": "execute_result"
    }
   ],
   "source": [
    "climate_data.shape"
   ]
  },
  {
   "cell_type": "markdown",
   "id": "2a83bd8a-6116-447d-a135-55b800d2b1ea",
   "metadata": {},
   "source": [
    "We can now perform a matrix multiplication using the @ operator to predict the yield of apples for the entire dataset using a given set of weights.\n",
    "\n"
   ]
  },
  {
   "cell_type": "code",
   "execution_count": 326,
   "id": "6f7deb29-40f0-4726-8df7-7bbf7e003320",
   "metadata": {},
   "outputs": [],
   "source": [
    "yields = climate_data @ weight"
   ]
  },
  {
   "cell_type": "code",
   "execution_count": 328,
   "id": "db89af1a-06e0-4fed-95d2-9ccc0edc79a7",
   "metadata": {},
   "outputs": [
    {
     "data": {
      "text/plain": [
       "array([72.2, 59.7, 65.2, ..., 71.1, 80.7, 73.4])"
      ]
     },
     "execution_count": 328,
     "metadata": {},
     "output_type": "execute_result"
    }
   ],
   "source": [
    "yields"
   ]
  },
  {
   "cell_type": "code",
   "execution_count": 330,
   "id": "81bb373e-780d-4403-8f9c-3a97182a98af",
   "metadata": {},
   "outputs": [
    {
     "data": {
      "text/plain": [
       "(10000,)"
      ]
     },
     "execution_count": 330,
     "metadata": {},
     "output_type": "execute_result"
    }
   ],
   "source": [
    "yields.shape"
   ]
  },
  {
   "cell_type": "markdown",
   "id": "641d0315-c520-4242-b608-824c5ad6b85f",
   "metadata": {},
   "source": [
    " ## add col yeild to the 4th col of climate_data\n",
    "Let's add the `yields` to `climate_data` as a fourth column using the [`np.concatenate`](https://numpy.org/doc/stable/reference/generated/numpy.concatenate.html) function."
   ]
  },
  {
   "cell_type": "code",
   "execution_count": 347,
   "id": "3ae72995-1a5c-4b63-8444-4455940af4e9",
   "metadata": {},
   "outputs": [],
   "source": [
    "climate_results = np.concatenate((climate_data, yields.reshape(10000,1)),axis =1)"
   ]
  },
  {
   "cell_type": "markdown",
   "id": "51155088-300b-4519-be9e-2bc16d668698",
   "metadata": {},
   "source": [
    "## Examplation of np.concatenate\n",
    " #### 1. climate_data => \n",
    "a numpy array of shape(1000,3) - each row likely contains[temp,rainfall,humidity]\n",
    "#### 2. yields.reshape(10000, 1) =>\n",
    "reshapes the yields arr from 1D(10000,) to 2D (10000,1)\n",
    "#### 3. np.concatenate(..., axis=1) =>\n",
    "means joining the colums HORIZONTALLYSo now each row will have 4 values: [temperature, rainfall, humidity, yield]"
   ]
  },
  {
   "cell_type": "code",
   "execution_count": 349,
   "id": "bb3f1db2-97af-4572-a45b-1c81b6935496",
   "metadata": {},
   "outputs": [
    {
     "data": {
      "text/plain": [
       "array([[25. , 76. , 99. , 72.2],\n",
       "       [39. , 65. , 70. , 59.7],\n",
       "       [59. , 45. , 77. , 65.2],\n",
       "       ...,\n",
       "       [99. , 62. , 58. , 71.1],\n",
       "       [70. , 71. , 91. , 80.7],\n",
       "       [92. , 39. , 76. , 73.4]])"
      ]
     },
     "execution_count": 349,
     "metadata": {},
     "output_type": "execute_result"
    }
   ],
   "source": [
    "climate_results"
   ]
  },
  {
   "cell_type": "markdown",
   "id": "a1e83b7f-3cd3-49f6-800c-da02a7b06aa0",
   "metadata": {},
   "source": [
    "# np.savetxt\n",
    "Let's write the final results from our computation above back to a file using the `np.savetxt` function.\n",
    "##### np.savetxt('climate_results.txt',climate_results, fmt='%.2f',delimiter=',', header=                           'temperature,rainfall,humidity,yield_of_apples', comments='') \n",
    "### 'climate_results.txt'\n",
    "→ The name of the new file you are creating (it will save in your current working directory).\n",
    "### climate_results\n",
    "→ The data array you want to save (your array with 4 columns)\n",
    "### fmt='%.2f'\n",
    "→ Format each number with 2 decimal places (e.g., 23.45, 78.90).\n",
    "### delimiter=','\n",
    "→ Use a comma to separate columns (just like in a CSV file).\n",
    "### header=\n",
    "'temperature,rainfall,humidity,yeild_apples'\n",
    "→ Write this first line as the header (column names).\n",
    "### comments=''\n",
    "→ Normally, headers are prefixed with a # character.\n",
    "→ Setting comments='' removes the #, so it looks clean."
   ]
  },
  {
   "cell_type": "code",
   "execution_count": null,
   "id": "2f76c957-343d-46c7-91c9-b6324845baec",
   "metadata": {},
   "outputs": [],
   "source": [
    " np.savetxt('climate_results.txt',climate_results,\n",
    "             fmt='%.2f',delimiter=',',header= 'temperature,rainfall,humidity,yield_of_apples',\n",
    "            comments='')"
   ]
  },
  {
   "cell_type": "markdown",
   "id": "ab31a669-349c-4162-9800-3767e522f2c3",
   "metadata": {},
   "source": [
    " ## 🟢 Now view the our new climate_results.txt file"
   ]
  },
  {
   "cell_type": "markdown",
   "id": "64ba0a17-09ff-43f8-a29d-a3bc890e02f4",
   "metadata": {},
   "source": [
    "### genfromtxt without skip_header =1\n",
    "NumPy is built for numerical computing, so functions like np.genfromtxt() are designed to load numeric data efficiently.\n",
    "\n",
    "If it encounters non-numeric values (like column headers or strings), and you're not handling them properly (e.g., using skip_header=1), NumPy will insert nan in place — because it doesn't know what to do with text when it's expecting numbers."
   ]
  },
  {
   "cell_type": "markdown",
   "id": "d948acfc-2299-493b-bec4-9d78b705da63",
   "metadata": {},
   "source": [
    "### 1. Using genfromtxt n print"
   ]
  },
  {
   "cell_type": "code",
   "execution_count": 431,
   "id": "04910ecf-6b7e-4781-94a0-98e7c2bd34c3",
   "metadata": {},
   "outputs": [
    {
     "name": "stdout",
     "output_type": "stream",
     "text": [
      "[[25.  76.  99.  72.2]\n",
      " [39.  65.  70.  59.7]\n",
      " [59.  45.  77.  65.2]\n",
      " [84.  63.  38.  56.8]\n",
      " [66.  50.  52.  55.8]]\n"
     ]
    }
   ],
   "source": [
    "result=  np.genfromtxt('climate_results.txt',delimiter=',',skip_header=1)\n",
    "print(result[:5])"
   ]
  },
  {
   "cell_type": "markdown",
   "id": "41a06456-7620-4dc7-ada9-d2f948d47258",
   "metadata": {},
   "source": [
    "### 2. Using pandas "
   ]
  },
  {
   "cell_type": "code",
   "execution_count": 429,
   "id": "568000b6-945f-48a4-9950-50dc75cd4cb8",
   "metadata": {},
   "outputs": [
    {
     "name": "stdout",
     "output_type": "stream",
     "text": [
      "   temperature  rainfall  humidity  yield_of_apples\n",
      "0         25.0      76.0      99.0             72.2\n",
      "1         39.0      65.0      70.0             59.7\n",
      "2         59.0      45.0      77.0             65.2\n",
      "3         84.0      63.0      38.0             56.8\n",
      "4         66.0      50.0      52.0             55.8\n",
      "5         41.0      94.0      77.0             69.6\n",
      "6         91.0      57.0      96.0             86.7\n",
      "7         49.0      96.0      99.0             83.4\n",
      "8         67.0      20.0      28.0             38.1\n",
      "9         85.0      31.0      95.0             79.2\n"
     ]
    }
   ],
   "source": [
    "import pandas as pd\n",
    "\n",
    "df = pd.read_csv('climate_results.txt')\n",
    "print(df.head(10)) # without argument it show 5 row only"
   ]
  },
  {
   "cell_type": "markdown",
   "id": "0673509a-5bb0-43ed-a9bf-73af37c787ca",
   "metadata": {},
   "source": [
    "### 3. Using Python's Open fucn"
   ]
  },
  {
   "cell_type": "code",
   "execution_count": 436,
   "id": "ac390693-91fa-47fb-a395-c4e005f82996",
   "metadata": {},
   "outputs": [
    {
     "name": "stdout",
     "output_type": "stream",
     "text": [
      "temperature,rainfall,humidity,yield_of_apples\n",
      "25.00,76.00,99.00,72.20\n",
      "39.00,65.00,70.00,59.70\n",
      "59.00,45.00,77.00,65.20\n",
      "84.00,63.00,38.00,56.80\n"
     ]
    }
   ],
   "source": [
    "with open('climate_results.txt','r') as c_file: # WITH:- This is a context manager — it automatically closes the file after you're done reading. No need to write file.close(). \n",
    "    for i in range(5):\n",
    "        print(c_file.readline().strip()) #STRIP:- Removes any extra spaces, newlines (\\n), or tabs at the beginning or end of the line."
   ]
  },
  {
   "cell_type": "markdown",
   "id": "937cecd9-8782-458a-b967-e951916077f4",
   "metadata": {},
   "source": [
    "Numpy provides hundreds of functions for performing operations on arrays. Here are some commonly used functions:\n",
    "\n",
    "Mathematics: np.sum, np.exp, np.round, arithemtic operators\n",
    "Array manipulation: np.reshape, np.stack, np.concatenate, np.split\n",
    "Linear Algebra: np.matmul, np.dot, np.transpose, np.eigvals\n",
    "Statistics: np.mean, np.median, np.std, np.max"
   ]
  },
  {
   "cell_type": "markdown",
   "id": "4ca3bb5d-a6c0-432d-8ed9-ca97a1b7d034",
   "metadata": {},
   "source": [
    "# Arithmetic operations, broadcasting and comparison\n",
    "Numpy arrays support arithmetic operators like +, -, *, etc. You can perform an arithmetic operation with a single number (also called scalar) or with another array of the same shape. Operators make it easy to write mathematical expressions with multi-dimensional arrays."
   ]
  },
  {
   "cell_type": "code",
   "execution_count": 441,
   "id": "64639fe2-85da-4140-b509-c4682cc1884f",
   "metadata": {},
   "outputs": [],
   "source": [
    "arr2 = np.array([[1, 2, 3, 4], \n",
    "                 [5, 6, 7, 8], \n",
    "                 [9, 1, 2, 3]])"
   ]
  },
  {
   "cell_type": "code",
   "execution_count": 445,
   "id": "66328c6d-206d-4a5c-9cc2-2ba940b26aed",
   "metadata": {},
   "outputs": [],
   "source": [
    "arr3 = np.array([[11, 12, 13, 14], \n",
    "                 [15, 16, 17, 18], \n",
    "                 [19, 11, 12, 13]])"
   ]
  },
  {
   "cell_type": "code",
   "execution_count": 451,
   "id": "ca90159a-c060-4180-b7b7-f13f030bf8a8",
   "metadata": {},
   "outputs": [
    {
     "data": {
      "text/plain": [
       "array([[101, 102, 103, 104],\n",
       "       [105, 106, 107, 108],\n",
       "       [109, 101, 102, 103]])"
      ]
     },
     "execution_count": 451,
     "metadata": {},
     "output_type": "execute_result"
    }
   ],
   "source": [
    "# Adding a scalar\n",
    "arr2+ 100"
   ]
  },
  {
   "cell_type": "code",
   "execution_count": 453,
   "id": "8aad41ba-bac6-4b8f-99a8-08b39b802346",
   "metadata": {},
   "outputs": [
    {
     "data": {
      "text/plain": [
       "array([[12, 14, 16, 18],\n",
       "       [20, 22, 24, 26],\n",
       "       [28, 12, 14, 16]])"
      ]
     },
     "execution_count": 453,
     "metadata": {},
     "output_type": "execute_result"
    }
   ],
   "source": [
    "# Element-wise Adition \n",
    "arr2+arr3"
   ]
  },
  {
   "cell_type": "code",
   "execution_count": 455,
   "id": "afcf6b51-e97b-4a68-b49c-4c1e163ae686",
   "metadata": {},
   "outputs": [
    {
     "data": {
      "text/plain": [
       "array([[10, 10, 10, 10],\n",
       "       [10, 10, 10, 10],\n",
       "       [10, 10, 10, 10]])"
      ]
     },
     "execution_count": 455,
     "metadata": {},
     "output_type": "execute_result"
    }
   ],
   "source": [
    "# Element-wise subtraction\n",
    "arr3-arr2"
   ]
  },
  {
   "cell_type": "code",
   "execution_count": 457,
   "id": "86f8cff8-20c4-49d3-8941-c279619e9ae4",
   "metadata": {},
   "outputs": [
    {
     "data": {
      "text/plain": [
       "array([[0.5, 1. , 1.5, 2. ],\n",
       "       [2.5, 3. , 3.5, 4. ],\n",
       "       [4.5, 0.5, 1. , 1.5]])"
      ]
     },
     "execution_count": 457,
     "metadata": {},
     "output_type": "execute_result"
    }
   ],
   "source": [
    "# Division by scalar\n",
    "arr2 / 2"
   ]
  },
  {
   "cell_type": "code",
   "execution_count": 459,
   "id": "35779bdb-e913-4009-ba79-891acd19cdbb",
   "metadata": {},
   "outputs": [
    {
     "data": {
      "text/plain": [
       "array([[ 11,  24,  39,  56],\n",
       "       [ 75,  96, 119, 144],\n",
       "       [171,  11,  24,  39]])"
      ]
     },
     "execution_count": 459,
     "metadata": {},
     "output_type": "execute_result"
    }
   ],
   "source": [
    "# Element-wise multiplication\n",
    "arr2 * arr3"
   ]
  },
  {
   "cell_type": "code",
   "execution_count": 461,
   "id": "07c01a4d-d43b-42c7-848a-ecf50909c8c3",
   "metadata": {},
   "outputs": [
    {
     "data": {
      "text/plain": [
       "array([[1, 2, 3, 0],\n",
       "       [1, 2, 3, 0],\n",
       "       [1, 1, 2, 3]], dtype=int32)"
      ]
     },
     "execution_count": 461,
     "metadata": {},
     "output_type": "execute_result"
    }
   ],
   "source": [
    "# Modulus with scalar\n",
    "arr2 % 4"
   ]
  },
  {
   "cell_type": "markdown",
   "id": "7cf0569d-aceb-4a46-8b6a-5eb9923d7c7f",
   "metadata": {},
   "source": [
    "## Array Broadcasting\n",
    "\n",
    "Numpy arrays also support *broadcasting*, allowing arithmetic operations between two arrays with different numbers of dimensions but compatible shapes. Let's look at an example to see how it works."
   ]
  },
  {
   "cell_type": "code",
   "execution_count": 470,
   "id": "049ee573-05ad-4419-bee7-221489887287",
   "metadata": {},
   "outputs": [],
   "source": [
    "arr2 = np.array([[1, 2, 3, 4], \n",
    "                 [5, 6, 7, 8], \n",
    "                 [9, 1, 2, 3]])"
   ]
  },
  {
   "cell_type": "code",
   "execution_count": 472,
   "id": "dd70542b-223e-4e4f-a4ee-bcb8c22df42d",
   "metadata": {},
   "outputs": [
    {
     "data": {
      "text/plain": [
       "(3, 4)"
      ]
     },
     "execution_count": 472,
     "metadata": {},
     "output_type": "execute_result"
    }
   ],
   "source": [
    "arr2.shape"
   ]
  },
  {
   "cell_type": "code",
   "execution_count": 474,
   "id": "95568bf1-604b-4bc4-bf09-e2517ec9b313",
   "metadata": {},
   "outputs": [],
   "source": [
    "arr4 = np.array([4, 5, 6, 7])"
   ]
  },
  {
   "cell_type": "code",
   "execution_count": 476,
   "id": "124c079c-7d84-4477-99a5-9098a078e2d6",
   "metadata": {},
   "outputs": [
    {
     "data": {
      "text/plain": [
       "(4,)"
      ]
     },
     "execution_count": 476,
     "metadata": {},
     "output_type": "execute_result"
    }
   ],
   "source": [
    "arr4.shape"
   ]
  },
  {
   "cell_type": "code",
   "execution_count": 468,
   "id": "5c4a3949-c0c8-4440-894c-c37803035945",
   "metadata": {},
   "outputs": [
    {
     "data": {
      "text/plain": [
       "array([[ 5,  7,  9, 11],\n",
       "       [ 9, 11, 13, 15],\n",
       "       [13,  6,  8, 10]])"
      ]
     },
     "execution_count": 468,
     "metadata": {},
     "output_type": "execute_result"
    }
   ],
   "source": [
    "arr2 + arr4"
   ]
  },
  {
   "cell_type": "markdown",
   "id": "225ce239-7b49-426b-a293-07079966b579",
   "metadata": {},
   "source": [
    "When the expression `arr2 + arr4` is evaluated, `arr4` (which has the shape `(4,)`) is replicated three times to match the shape `(3, 4)` of `arr2`. Numpy performs the replication without actually creating three copies of the smaller dimension array, thus improving performance and using lower memory.\n",
    "\n",
    "<img src=\"https://jakevdp.github.io/PythonDataScienceHandbook/figures/02.05-broadcasting.png\" width=\"360\">\n",
    "\n",
    "Broadcasting only works if one of the arrays can be replicated to match the other array's shape."
   ]
  },
  {
   "cell_type": "markdown",
   "id": "b3eb9e38-0284-42e8-9898-56a548177dad",
   "metadata": {},
   "source": [
    "## Array Comparison\n",
    "\n",
    "Numpy arrays also support comparison operations like `==`, `!=`, `>` etc. The result is an array of booleans."
   ]
  },
  {
   "cell_type": "code",
   "execution_count": 480,
   "id": "982e9499-be14-4b08-932f-495ffb385490",
   "metadata": {},
   "outputs": [],
   "source": [
    "arr1 = np.array([[1, 2, 3], [3, 4, 5]])\n",
    "arr2 = np.array([[2, 2, 3], [1, 2, 5]])"
   ]
  },
  {
   "cell_type": "code",
   "execution_count": 482,
   "id": "65f64499-2fb3-4943-96ec-d25e65ff8ca9",
   "metadata": {},
   "outputs": [
    {
     "data": {
      "text/plain": [
       "array([[False,  True,  True],\n",
       "       [False, False,  True]])"
      ]
     },
     "execution_count": 482,
     "metadata": {},
     "output_type": "execute_result"
    }
   ],
   "source": [
    "arr1 == arr2"
   ]
  },
  {
   "cell_type": "code",
   "execution_count": 484,
   "id": "619e1b40-a9d5-4a2b-b1b1-8dc0a2c65ad0",
   "metadata": {},
   "outputs": [
    {
     "data": {
      "text/plain": [
       "array([[ True, False, False],\n",
       "       [ True,  True, False]])"
      ]
     },
     "execution_count": 484,
     "metadata": {},
     "output_type": "execute_result"
    }
   ],
   "source": [
    "arr1 != arr2"
   ]
  },
  {
   "cell_type": "code",
   "execution_count": 486,
   "id": "388e7fd6-d2af-4c1e-b047-44273b830d9d",
   "metadata": {},
   "outputs": [
    {
     "data": {
      "text/plain": [
       "array([[False,  True,  True],\n",
       "       [ True,  True,  True]])"
      ]
     },
     "execution_count": 486,
     "metadata": {},
     "output_type": "execute_result"
    }
   ],
   "source": [
    "arr1 >= arr2"
   ]
  },
  {
   "cell_type": "code",
   "execution_count": 488,
   "id": "69633b3a-ded6-47b8-9192-8abd3fee62cb",
   "metadata": {},
   "outputs": [
    {
     "data": {
      "text/plain": [
       "array([[ True, False, False],\n",
       "       [False, False, False]])"
      ]
     },
     "execution_count": 488,
     "metadata": {},
     "output_type": "execute_result"
    }
   ],
   "source": [
    "arr1 < arr2"
   ]
  },
  {
   "cell_type": "markdown",
   "id": "758876db-1558-4b5a-8ad0-1d240a363340",
   "metadata": {},
   "source": [
    "Array comparison is frequently used to count the number of equal elements in two arrays using the `sum` method. Remember that `True` evaluates to `1` and `False` evaluates to `0` when booleans are used in arithmetic operations."
   ]
  },
  {
   "cell_type": "code",
   "execution_count": 495,
   "id": "2a8ccba9-f8f6-415a-a5ca-443282f5ab7b",
   "metadata": {},
   "outputs": [
    {
     "data": {
      "text/plain": [
       "3"
      ]
     },
     "execution_count": 495,
     "metadata": {},
     "output_type": "execute_result"
    }
   ],
   "source": [
    "(arr1 == arr2).sum()"
   ]
  },
  {
   "cell_type": "markdown",
   "id": "277cda87-dbc1-436b-80f7-862e6e8dcfb2",
   "metadata": {},
   "source": [
    "# Array indexing and slicing\n",
    "\n",
    "Numpy extends Python's list indexing notation using `[]` to multiple dimensions in an intuitive fashion. You can provide a comma-separated list of indices or ranges to select a specific element or a subarray (also called a slice) from a Numpy array."
   ]
  },
  {
   "cell_type": "code",
   "execution_count": 7,
   "id": "c1af50d0-2503-44cd-a13b-45db525f5ef9",
   "metadata": {},
   "outputs": [],
   "source": [
    "arr3 = np.array([\n",
    "    [[11, 12, 13, 14], \n",
    "     [13, 14, 15, 19]], \n",
    "    \n",
    "    [[15, 16, 17, 21], \n",
    "     [63, 92, 36, 18]], \n",
    "    \n",
    "    [[98, 32, 81, 23],      \n",
    "     [17, 18, 19.5, 43]]])"
   ]
  },
  {
   "cell_type": "code",
   "execution_count": 9,
   "id": "523668fd-8ee7-42da-b82c-b6fb45dfe77b",
   "metadata": {},
   "outputs": [
    {
     "data": {
      "text/plain": [
       "(3, 2, 4)"
      ]
     },
     "execution_count": 9,
     "metadata": {},
     "output_type": "execute_result"
    }
   ],
   "source": [
    "arr3.shape"
   ]
  },
  {
   "cell_type": "code",
   "execution_count": 11,
   "id": "024a6be6-41ae-414a-9945-3d315fe251c0",
   "metadata": {},
   "outputs": [
    {
     "data": {
      "text/plain": [
       "36.0"
      ]
     },
     "execution_count": 11,
     "metadata": {},
     "output_type": "execute_result"
    }
   ],
   "source": [
    "# Single element\n",
    "arr3[1, 1, 2]"
   ]
  },
  {
   "cell_type": "code",
   "execution_count": 15,
   "id": "30d8921c-3d9d-4884-be63-246b8b09edb5",
   "metadata": {},
   "outputs": [
    {
     "data": {
      "text/plain": [
       "array([[[15., 16.]],\n",
       "\n",
       "       [[98., 32.]]])"
      ]
     },
     "execution_count": 15,
     "metadata": {},
     "output_type": "execute_result"
    }
   ],
   "source": [
    "arr3[1:,0:1,:2]"
   ]
  },
  {
   "cell_type": "code",
   "execution_count": 19,
   "id": "d3563b8f-91df-49d0-a476-23b527e3572b",
   "metadata": {},
   "outputs": [
    {
     "data": {
      "text/plain": [
       "array([18., 43.])"
      ]
     },
     "execution_count": 19,
     "metadata": {},
     "output_type": "execute_result"
    }
   ],
   "source": [
    "# Mixing indices and ranges\n",
    "arr3[1:, 1, 3]"
   ]
  },
  {
   "cell_type": "code",
   "execution_count": 21,
   "id": "86219f8c-3194-4929-960a-e84ca0c4a44a",
   "metadata": {},
   "outputs": [
    {
     "data": {
      "text/plain": [
       "array([[15., 16., 17., 21.],\n",
       "       [63., 92., 36., 18.]])"
      ]
     },
     "execution_count": 21,
     "metadata": {},
     "output_type": "execute_result"
    }
   ],
   "source": [
    "# Using fewer indices\n",
    "arr3[1]"
   ]
  },
  {
   "cell_type": "code",
   "execution_count": 23,
   "id": "7048de69-ffe2-4582-9b4f-2af94c4d487a",
   "metadata": {},
   "outputs": [
    {
     "data": {
      "text/plain": [
       "array([[13., 14., 15., 19.],\n",
       "       [63., 92., 36., 18.]])"
      ]
     },
     "execution_count": 23,
     "metadata": {},
     "output_type": "execute_result"
    }
   ],
   "source": [
    "# Using fewer indices\n",
    "arr3[:2, 1]"
   ]
  },
  {
   "cell_type": "code",
   "execution_count": 25,
   "id": "ebf549a3-617e-41bf-b8d6-b2d9c3402a45",
   "metadata": {},
   "outputs": [
    {
     "data": {
      "text/plain": [
       "array([[[11. , 12. , 13. , 14. ],\n",
       "        [13. , 14. , 15. , 19. ]],\n",
       "\n",
       "       [[15. , 16. , 17. , 21. ],\n",
       "        [63. , 92. , 36. , 18. ]],\n",
       "\n",
       "       [[98. , 32. , 81. , 23. ],\n",
       "        [17. , 18. , 19.5, 43. ]]])"
      ]
     },
     "execution_count": 25,
     "metadata": {},
     "output_type": "execute_result"
    }
   ],
   "source": [
    "arr3"
   ]
  },
  {
   "cell_type": "code",
   "execution_count": null,
   "id": "101f312b-e23f-4df3-9778-49ffd8afa7aa",
   "metadata": {},
   "outputs": [],
   "source": [
    "# Using too many indices\n",
    "arr3[1,3,2,1]  # this show error"
   ]
  },
  {
   "cell_type": "markdown",
   "id": "93a6bc1e-f216-42c3-a054-dbe78e4f5d6a",
   "metadata": {},
   "source": [
    "## Other ways of creating Numpy arrays\n",
    "\n",
    "Numpy also provides some handy functions to create arrays of desired shapes with fixed or random values. Check out the [official documentation](https://numpy.org/doc/stable/reference/routines.array-creation.html) or use the `help` function to learn more."
   ]
  },
  {
   "cell_type": "code",
   "execution_count": 32,
   "id": "161c4105-cf2f-4c0a-9ea5-bc9dbb03ff0c",
   "metadata": {},
   "outputs": [
    {
     "data": {
      "text/plain": [
       "array([[0., 0.],\n",
       "       [0., 0.],\n",
       "       [0., 0.]])"
      ]
     },
     "execution_count": 32,
     "metadata": {},
     "output_type": "execute_result"
    }
   ],
   "source": [
    "# All zeros\n",
    "np.zeros((3, 2))"
   ]
  },
  {
   "cell_type": "code",
   "execution_count": 56,
   "id": "202c7efd-07a1-412d-8547-ead54b9bc1c0",
   "metadata": {},
   "outputs": [
    {
     "data": {
      "text/plain": [
       "array([[1., 0., 0.],\n",
       "       [0., 1., 0.],\n",
       "       [0., 0., 1.]])"
      ]
     },
     "execution_count": 56,
     "metadata": {},
     "output_type": "execute_result"
    }
   ],
   "source": [
    "# Identity matrix\n",
    "np.eye(3)"
   ]
  },
  {
   "cell_type": "code",
   "execution_count": 58,
   "id": "28641e09-dff4-4965-a730-4f0674b38a64",
   "metadata": {},
   "outputs": [
    {
     "data": {
      "text/plain": [
       "array([0.06029751, 0.70699572, 0.35342279, 0.90807494, 0.70717221])"
      ]
     },
     "execution_count": 58,
     "metadata": {},
     "output_type": "execute_result"
    }
   ],
   "source": [
    "np.random.rand(5) # (generate a 1d array with 5 randon, that no are float btw 0 to 1(including 0 but less than 1)"
   ]
  },
  {
   "cell_type": "code",
   "execution_count": 62,
   "id": "ffbcf99a-1e7d-4094-b685-feb1f0fd7170",
   "metadata": {},
   "outputs": [
    {
     "data": {
      "text/plain": [
       "array([[ 0.43957915, -1.57849458, -1.80255321],\n",
       "       [ 1.4446245 ,  0.53190518, -0.36217912]])"
      ]
     },
     "execution_count": 62,
     "metadata": {},
     "output_type": "execute_result"
    }
   ],
   "source": [
    "np.random.randn(2,3) # and generate rand no. from standard normal distribution (mean=0, sd=1), the val can be +ve or -ve "
   ]
  },
  {
   "cell_type": "code",
   "execution_count": 68,
   "id": "9af6770f-2ec1-4a44-984a-7724b2815006",
   "metadata": {},
   "outputs": [
    {
     "data": {
      "text/plain": [
       "array([[100, 100, 100],\n",
       "       [100, 100, 100]])"
      ]
     },
     "execution_count": 68,
     "metadata": {},
     "output_type": "execute_result"
    }
   ],
   "source": [
    "#fixexd value\n",
    "np.full([2,3],100)"
   ]
  },
  {
   "cell_type": "code",
   "execution_count": 74,
   "id": "edd2312a-7b21-402b-ad8f-89a2ec1873a3",
   "metadata": {},
   "outputs": [
    {
     "data": {
      "text/plain": [
       "array([10, 15, 20, 25, 30, 35, 40, 45, 50, 55, 60, 65, 70, 75, 80, 85, 90,\n",
       "       95])"
      ]
     },
     "execution_count": 74,
     "metadata": {},
     "output_type": "execute_result"
    }
   ],
   "source": [
    "# Range with start, end and step\n",
    "np.arange(10,100,5)"
   ]
  },
  {
   "cell_type": "code",
   "execution_count": 110,
   "id": "4df91da0-0007-442e-aea8-d15fe1dbc565",
   "metadata": {},
   "outputs": [
    {
     "data": {
      "text/plain": [
       "array([[[10, 13],\n",
       "        [16, 19],\n",
       "        [22, 25],\n",
       "        [28, 31],\n",
       "        [34, 37]],\n",
       "\n",
       "       [[40, 43],\n",
       "        [46, 49],\n",
       "        [52, 55],\n",
       "        [58, 61],\n",
       "        [64, 67]],\n",
       "\n",
       "       [[70, 73],\n",
       "        [76, 79],\n",
       "        [82, 85],\n",
       "        [88, 91],\n",
       "        [94, 97]]])"
      ]
     },
     "execution_count": 110,
     "metadata": {},
     "output_type": "execute_result"
    }
   ],
   "source": [
    "arr = np.arange(10,100,3)\n",
    "arr.reshape(3, 5, -1)  # numpy will automatically figure out that the last dimension must be 2\n"
   ]
  },
  {
   "cell_type": "code",
   "execution_count": 116,
   "id": "fb7fa6ca-c32b-4ad6-9235-9ea42ab32f1a",
   "metadata": {},
   "outputs": [
    {
     "data": {
      "text/plain": [
       "array([ 3.,  6.,  9., 12., 15., 18., 21., 24., 27.])"
      ]
     },
     "execution_count": 116,
     "metadata": {},
     "output_type": "execute_result"
    }
   ],
   "source": [
    "np.linspace(3,27,9) #start is exactly start (3). End is exactly end (27). Exactly 9 numbers. Evenly spaced."
   ]
  },
  {
   "cell_type": "code",
   "execution_count": null,
   "id": "8ef4b11e-6578-48d6-a1f6-881ce3adcbaa",
   "metadata": {},
   "outputs": [],
   "source": []
  }
 ],
 "metadata": {
  "kernelspec": {
   "display_name": "Python [conda env:base] *",
   "language": "python",
   "name": "conda-base-py"
  },
  "language_info": {
   "codemirror_mode": {
    "name": "ipython",
    "version": 3
   },
   "file_extension": ".py",
   "mimetype": "text/x-python",
   "name": "python",
   "nbconvert_exporter": "python",
   "pygments_lexer": "ipython3",
   "version": "3.12.7"
  }
 },
 "nbformat": 4,
 "nbformat_minor": 5
}
