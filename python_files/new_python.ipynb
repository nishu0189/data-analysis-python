{
 "cells": [
  {
   "cell_type": "markdown",
   "id": "23ea60a7-5181-4963-9e3e-20a5b640aba9",
   "metadata": {},
   "source": [
    "this is naya file"
   ]
  },
  {
   "cell_type": "code",
   "execution_count": 4,
   "id": "479a7fe3-d3bd-4ebb-b266-63bb2a8b1be8",
   "metadata": {},
   "outputs": [
    {
     "name": "stdout",
     "output_type": "stream",
     "text": [
      "hi nishu\n"
     ]
    }
   ],
   "source": [
    "print(\"hi nishu\")\n"
   ]
  },
  {
   "cell_type": "markdown",
   "id": "8532a9a6-4783-4877-8c17-b5ac547c9ac7",
   "metadata": {},
   "source": [
    "# STRING FUNCTIONS\n"
   ]
  },
  {
   "cell_type": "code",
   "execution_count": 27,
   "id": "3bd75601-cb14-4552-b1fe-ef82600a897e",
   "metadata": {},
   "outputs": [],
   "source": [
    "a = \"He He He\"\n"
   ]
  },
  {
   "cell_type": "code",
   "execution_count": 29,
   "id": "f0eaa809-7573-4ba0-8a9c-d53fecbb4faa",
   "metadata": {},
   "outputs": [
    {
     "data": {
      "text/plain": [
       "'He he he'"
      ]
     },
     "execution_count": 29,
     "metadata": {},
     "output_type": "execute_result"
    }
   ],
   "source": [
    "a.capitalize()"
   ]
  },
  {
   "cell_type": "code",
   "execution_count": 5,
   "id": "f5e655c0-51cd-4379-ac6c-a005ba1206ad",
   "metadata": {},
   "outputs": [],
   "source": [
    "b = 'he he he'"
   ]
  },
  {
   "cell_type": "code",
   "execution_count": 7,
   "id": "9598d376-3ad9-4056-95bd-65e8e7c6f552",
   "metadata": {},
   "outputs": [
    {
     "data": {
      "text/plain": [
       "'He he he'"
      ]
     },
     "execution_count": 7,
     "metadata": {},
     "output_type": "execute_result"
    }
   ],
   "source": [
    "b.capitalize()"
   ]
  },
  {
   "cell_type": "code",
   "execution_count": 9,
   "id": "1825e9ec-3aaa-461f-8f48-bfc1f09ccf2f",
   "metadata": {},
   "outputs": [],
   "source": [
    "\n",
    "c= \"Hi Tommu\""
   ]
  },
  {
   "cell_type": "code",
   "execution_count": 11,
   "id": "84705e73-a511-4732-9667-e6da49e896fb",
   "metadata": {},
   "outputs": [
    {
     "data": {
      "text/plain": [
       "'Hi tommu'"
      ]
     },
     "execution_count": 11,
     "metadata": {},
     "output_type": "execute_result"
    }
   ],
   "source": [
    "c.capitalize()"
   ]
  },
  {
   "cell_type": "code",
   "execution_count": 17,
   "id": "210cfc06-f7c6-4f98-bc00-698c9ea329b7",
   "metadata": {},
   "outputs": [],
   "source": [
    "d=  \"Hi Tommu\""
   ]
  },
  {
   "cell_type": "code",
   "execution_count": 19,
   "id": "b8ce9b31-b067-423b-a9f3-4f6d0eb6a36f",
   "metadata": {},
   "outputs": [
    {
     "data": {
      "text/plain": [
       "'Hi tommu'"
      ]
     },
     "execution_count": 19,
     "metadata": {},
     "output_type": "execute_result"
    }
   ],
   "source": [
    "d.capitalize()"
   ]
  },
  {
   "cell_type": "code",
   "execution_count": 47,
   "id": "2225f174-e805-4d9e-9484-029a534d9fff",
   "metadata": {},
   "outputs": [],
   "source": [
    "pri = \"Picnic List\""
   ]
  },
  {
   "cell_type": "code",
   "execution_count": 49,
   "id": "fae14b54-9b2c-4433-b9b6-8ba19e5b1228",
   "metadata": {},
   "outputs": [
    {
     "name": "stdout",
     "output_type": "stream",
     "text": [
      "---Picnic List---\n"
     ]
    }
   ],
   "source": [
    "print(pri.center(1,'-'))"
   ]
  },
  {
   "cell_type": "markdown",
   "id": "885aeb31-996f-4fee-97cd-6237879549ba",
   "metadata": {},
   "source": [
    "# PINCIN LIST PROGRAM"
   ]
  },
  {
   "cell_type": "code",
   "execution_count": 43,
   "id": "3b6299e9-7008-4a46-b834-12eed89e449b",
   "metadata": {},
   "outputs": [
    {
     "name": "stdout",
     "output_type": "stream",
     "text": [
      "---PICNIC ITEMS--\n",
      "sandwiches..    4\n",
      "apples......   12\n",
      "cups........    4\n",
      "cookies..... 8000\n",
      "-------PICNIC ITEMS-------\n",
      "sandwiches..........     4\n",
      "apples..............    12\n",
      "cups................     4\n",
      "cookies.............  8000\n"
     ]
    }
   ],
   "source": [
    " def printPicnic(itemsDict, leftWidth, rightWidth):\n",
    "    print('PICNIC ITEMS'.center(leftWidth + rightWidth, '-'))\n",
    "    for k, v in itemsDict.items():\n",
    "        print(k.ljust(leftWidth, '.') + str(v).rjust(rightWidth))\n",
    " \n",
    "picnicItems = {'sandwiches': 4, 'apples': 12, 'cups': 4, 'cookies': 8000}\n",
    " printPicnic(picnicItems, 12, 5)\n",
    " printPicnic(picnicItems, 20, 6)"
   ]
  },
  {
   "cell_type": "markdown",
   "id": "98e5b327-6aae-4438-b96f-7ca191ee2c9c",
   "metadata": {},
   "source": [
    "import pyperclip\n",
    "pyperclip.copy('Hello world!')\n",
    "pyperclip.paste()"
   ]
  },
  {
   "cell_type": "markdown",
   "id": "d6a2c7ca-1635-4150-b774-8fae345c2f32",
   "metadata": {},
   "source": [
    "# FOR LOOPS"
   ]
  },
  {
   "cell_type": "code",
   "execution_count": 6,
   "id": "5c7916f5-941e-4932-890e-553a39d498ff",
   "metadata": {},
   "outputs": [
    {
     "name": "stdout",
     "output_type": "stream",
     "text": [
      "0\n",
      "1\n",
      "2\n",
      "3\n",
      "4\n"
     ]
    }
   ],
   "source": [
    "for i in range(5):\n",
    "    print(i)"
   ]
  },
  {
   "cell_type": "code",
   "execution_count": 63,
   "id": "f8e8cb00-c719-4e0d-a526-44dcc1ceef78",
   "metadata": {},
   "outputs": [
    {
     "name": "stdout",
     "output_type": "stream",
     "text": [
      "0\n",
      "2\n",
      "4\n",
      "6\n",
      "8\n"
     ]
    }
   ],
   "source": [
    "for i in range(0,10,2):\n",
    "    print(i)"
   ]
  },
  {
   "cell_type": "code",
   "execution_count": 67,
   "id": "d72e671e-8e31-47b6-8289-92fa2fdd8cf5",
   "metadata": {},
   "outputs": [
    {
     "name": "stdout",
     "output_type": "stream",
     "text": [
      "0\n",
      "1\n",
      "2\n",
      "3\n",
      "4\n"
     ]
    }
   ],
   "source": [
    "for i in range(0,5):\n",
    "    print(i)"
   ]
  },
  {
   "cell_type": "markdown",
   "id": "262e5084-eb51-4f7e-8144-5bda384f3df6",
   "metadata": {},
   "source": [
    "# EXCEPETION TRY EXCEPT"
   ]
  },
  {
   "cell_type": "code",
   "execution_count": 13,
   "id": "77a8bdc3-7a36-4fdb-8827-eb394aa64db0",
   "metadata": {},
   "outputs": [
    {
     "name": "stdout",
     "output_type": "stream",
     "text": [
      "21.0\n",
      "3.5\n",
      "Error: Invalid argument.\n"
     ]
    }
   ],
   "source": [
    "\n",
    "def spam(divideBy):\n",
    "    return 42 / divideBy\n",
    "\n",
    "try:\n",
    "    print(spam(2))\n",
    "    print(spam(12))\n",
    "    print(spam(0))  # This will cause a ZeroDivisionError\n",
    "    print(spam(1))\n",
    "except ZeroDivisionError:\n",
    "    print('Error: Invalid argument.')"
   ]
  },
  {
   "cell_type": "code",
   "execution_count": 117,
   "id": "fad28c78-8b5b-4fd6-938c-8ec38a8c5e3d",
   "metadata": {},
   "outputs": [
    {
     "name": "stdout",
     "output_type": "stream",
     "text": [
      "21.0\n",
      "3.5\n",
      "Error: Invalid argument.\n",
      "None\n",
      "42.0\n"
     ]
    }
   ],
   "source": [
    "def spam(divideBy):\n",
    "    try:\n",
    "        return 42 / divideBy\n",
    "        \n",
    "    except ZeroDivisionError:\n",
    "        print('Error: Invalid argument.')\n",
    "print(spam(2))\n",
    "print(spam(12))\n",
    "print(spam(0))  # This will cause a ZeroDivisionError\n",
    "print(spam(1))\n",
    "    \n",
    "        \n",
    "   \n",
    "\n",
    "   \n",
    "        "
   ]
  },
  {
   "cell_type": "code",
   "execution_count": 78,
   "id": "73d18c50-0fc6-4c5a-83d3-c10623f48199",
   "metadata": {},
   "outputs": [
    {
     "name": "stdout",
     "output_type": "stream",
     "text": [
      "enter the cat1(Or enter nothing to stop):\n"
     ]
    },
    {
     "name": "stdin",
     "output_type": "stream",
     "text": [
      " kitty\n"
     ]
    },
    {
     "name": "stdout",
     "output_type": "stream",
     "text": [
      "enter the cat2(Or enter nothing to stop):\n"
     ]
    },
    {
     "name": "stdin",
     "output_type": "stream",
     "text": [
      " pitty\n"
     ]
    },
    {
     "name": "stdout",
     "output_type": "stream",
     "text": [
      "enter the cat3(Or enter nothing to stop):\n"
     ]
    },
    {
     "name": "stdin",
     "output_type": "stream",
     "text": [
      " samy\n"
     ]
    },
    {
     "name": "stdout",
     "output_type": "stream",
     "text": [
      "enter the cat4(Or enter nothing to stop):\n"
     ]
    },
    {
     "name": "stdin",
     "output_type": "stream",
     "text": [
      " tamy\n"
     ]
    },
    {
     "name": "stdout",
     "output_type": "stream",
     "text": [
      "enter the cat5(Or enter nothing to stop):\n"
     ]
    },
    {
     "name": "stdin",
     "output_type": "stream",
     "text": [
      " \n"
     ]
    },
    {
     "name": "stdout",
     "output_type": "stream",
     "text": [
      "cats names are\n",
      " kitty\n",
      " pitty\n",
      " samy\n",
      " tamy\n"
     ]
    }
   ],
   "source": [
    "catname = []\n",
    "while True:\n",
    "    print('enter the cat'+str(len(catname)+1)+'(Or enter nothing to stop):') #len(catname) THIS IS  LEN OF LIST SIZE , HOW MANY CAT IN LIST\n",
    "    name = input()\n",
    "    if name == '':\n",
    "        break\n",
    "    catname = catname + [name]\n",
    "print('cats names are')\n",
    "for name in catname:\n",
    "    print(' '+ name)\n",
    "    "
   ]
  },
  {
   "cell_type": "markdown",
   "id": "44b0fbb0-c19d-4f70-b2ed-61cc7ae78111",
   "metadata": {},
   "source": [
    "# random.randint\n"
   ]
  },
  {
   "cell_type": "code",
   "execution_count": 13,
   "id": "a0070a26-0280-46c2-b4fc-c8ad0ec115e4",
   "metadata": {},
   "outputs": [
    {
     "name": "stdout",
     "output_type": "stream",
     "text": [
      "Concentrate and ask again\n"
     ]
    }
   ],
   "source": [
    "import random\n",
    "messages = ['It is certain',\n",
    "    'It is decidedly so',\n",
    "    'Yes definitely',\n",
    "    'Reply hazy try again',\n",
    "    'Ask again later',\n",
    "    'Concentrate and ask again',\n",
    "    'My reply is no',\n",
    "    'Outlook not so good',\n",
    "    'Very doubtful']\n",
    "print(messages[random.randint(0, len(messages) - 1)])"
   ]
  },
  {
   "cell_type": "markdown",
   "id": "2462984d-9624-4656-bcf0-21c7f2ad6274",
   "metadata": {},
   "source": [
    "\n",
    "# call by value x= [1,2,3]"
   ]
  },
  {
   "cell_type": "code",
   "execution_count": 1,
   "id": "8314b948-aca4-4542-a84f-9a211d92986a",
   "metadata": {},
   "outputs": [],
   "source": [
    "x= [1,2,3]"
   ]
  },
  {
   "cell_type": "code",
   "execution_count": 13,
   "id": "bc8e2cf2-4f87-4096-a05c-e06bda26316f",
   "metadata": {},
   "outputs": [
    {
     "data": {
      "text/plain": [
       "3"
      ]
     },
     "execution_count": 13,
     "metadata": {},
     "output_type": "execute_result"
    }
   ],
   "source": [
    "len(x)"
   ]
  },
  {
   "cell_type": "code",
   "execution_count": 3,
   "id": "24883ec7-efa5-4a3a-a4d1-8dbf2e2c0d68",
   "metadata": {},
   "outputs": [
    {
     "data": {
      "text/plain": [
       "[1, 2, 3]"
      ]
     },
     "execution_count": 3,
     "metadata": {},
     "output_type": "execute_result"
    }
   ],
   "source": [
    "x"
   ]
  },
  {
   "cell_type": "code",
   "execution_count": 15,
   "id": "9959014d-9b8d-4c4f-8f66-9494190fc62d",
   "metadata": {},
   "outputs": [],
   "source": [
    "y = x[0:len(x)]"
   ]
  },
  {
   "cell_type": "code",
   "execution_count": 17,
   "id": "7d38bd66-2e42-4c5f-abaf-c220f039615d",
   "metadata": {},
   "outputs": [
    {
     "data": {
      "text/plain": [
       "[1, 2, 3]"
      ]
     },
     "execution_count": 17,
     "metadata": {},
     "output_type": "execute_result"
    }
   ],
   "source": [
    "y"
   ]
  },
  {
   "cell_type": "code",
   "execution_count": 21,
   "id": "d4d7e899-b258-4fff-9549-37687700a3d3",
   "metadata": {},
   "outputs": [],
   "source": [
    "y[1] = 'hi'"
   ]
  },
  {
   "cell_type": "code",
   "execution_count": 23,
   "id": "ad7dbc31-64f3-4556-b3be-49fa0ba2ae7d",
   "metadata": {},
   "outputs": [
    {
     "data": {
      "text/plain": [
       "[1, 'hi', 3]"
      ]
     },
     "execution_count": 23,
     "metadata": {},
     "output_type": "execute_result"
    }
   ],
   "source": [
    "y"
   ]
  },
  {
   "cell_type": "code",
   "execution_count": 31,
   "id": "d82b1f43-6ce9-4d67-908f-c9161c4f22c0",
   "metadata": {},
   "outputs": [
    {
     "data": {
      "text/plain": [
       "[1, 2, 3]"
      ]
     },
     "execution_count": 31,
     "metadata": {},
     "output_type": "execute_result"
    }
   ],
   "source": [
    "x"
   ]
  },
  {
   "cell_type": "markdown",
   "id": "55d25046-8aa6-4315-bb89-c58ec2d24c9f",
   "metadata": {},
   "source": [
    "# call by reference"
   ]
  },
  {
   "cell_type": "code",
   "execution_count": 45,
   "id": "fdaa61ae-f1f0-4dd6-9df2-9f813a625e25",
   "metadata": {},
   "outputs": [],
   "source": [
    "z = x"
   ]
  },
  {
   "cell_type": "code",
   "execution_count": 27,
   "id": "761add84-e90e-4647-8556-aadb2a25cf69",
   "metadata": {},
   "outputs": [
    {
     "data": {
      "text/plain": [
       "[1, 2, 3]"
      ]
     },
     "execution_count": 27,
     "metadata": {},
     "output_type": "execute_result"
    }
   ],
   "source": [
    "z"
   ]
  },
  {
   "cell_type": "code",
   "execution_count": 29,
   "id": "cac7a758-e1a4-4ebc-afb6-371b1a8153a8",
   "metadata": {},
   "outputs": [
    {
     "data": {
      "text/plain": [
       "[1, 2, 3]"
      ]
     },
     "execution_count": 29,
     "metadata": {},
     "output_type": "execute_result"
    }
   ],
   "source": [
    "x"
   ]
  },
  {
   "cell_type": "code",
   "execution_count": 33,
   "id": "19de9bb6-130c-4c7b-a1f7-2df6c38915b3",
   "metadata": {},
   "outputs": [],
   "source": [
    "z[1] = 'bye'"
   ]
  },
  {
   "cell_type": "code",
   "execution_count": 35,
   "id": "5ae388ec-38d6-45be-9a71-039e51c42c1d",
   "metadata": {},
   "outputs": [
    {
     "data": {
      "text/plain": [
       "[1, 'bye', 3]"
      ]
     },
     "execution_count": 35,
     "metadata": {},
     "output_type": "execute_result"
    }
   ],
   "source": [
    "x"
   ]
  },
  {
   "cell_type": "code",
   "execution_count": 51,
   "id": "9502f685-a9ab-457c-8874-07062d242640",
   "metadata": {},
   "outputs": [
    {
     "name": "stdout",
     "output_type": "stream",
     "text": [
      "[1, 2, 3, 'Hello']\n"
     ]
    }
   ],
   "source": [
    "def eggs(someParameter):\n",
    "    someParameter.append('Hello')\n",
    "spam = [1, 2, 3]\n",
    "eggs(spam)\n",
    "print(spam)"
   ]
  },
  {
   "cell_type": "code",
   "execution_count": null,
   "id": "094d380b-742c-4586-a055-919bd768da22",
   "metadata": {},
   "outputs": [],
   "source": []
  },
  {
   "cell_type": "code",
   "execution_count": 67,
   "id": "9af41c05-2a7f-43f0-adbb-31e4a46b1b89",
   "metadata": {},
   "outputs": [
    {
     "name": "stdout",
     "output_type": "stream",
     "text": [
      "[1, 2, 3]\n",
      "[1, 'Hii', 3]\n"
     ]
    }
   ],
   "source": [
    "import copy\n",
    "\n",
    "x = [1,2,3]\n",
    "y = copy.deepcopy(x)\n",
    "\n",
    "y[1] = 'Hii'\n",
    "\n",
    "print(x)\n",
    "print(y)"
   ]
  },
  {
   "cell_type": "code",
   "execution_count": 83,
   "id": "0dc43276-aff6-4cf7-b5b9-5276e93416d4",
   "metadata": {},
   "outputs": [
    {
     "name": "stdout",
     "output_type": "stream",
     "text": [
      "[[0, 0, 0], [1, 2, 3]]\n",
      "[['Hii', 0, 0], [1, 2, 3]]\n"
     ]
    }
   ],
   "source": [
    "import copy\n",
    "\n",
    "x = [[0,0,0],[1,2,3] ]\n",
    "y = copy.deepcopy(x)\n",
    "\n",
    "y[0][0] = 'Hii'\n",
    "\n",
    "print(x)\n",
    "print(y)"
   ]
  },
  {
   "cell_type": "markdown",
   "id": "70485bcd-0fbb-4be3-8d4c-ab6a150f509b",
   "metadata": {},
   "source": [
    "# copy.copy()  AND copy.deepcopy()"
   ]
  },
  {
   "cell_type": "code",
   "execution_count": 94,
   "id": "58778d90-d84d-4f4a-b0a7-91111a3a325e",
   "metadata": {},
   "outputs": [
    {
     "name": "stdout",
     "output_type": "stream",
     "text": [
      "[[1, 2, 3], ['A', 'B', 'C'], ['hiiiii', 9, 8]]\n",
      "[[1, 2, 3], ['A', 'B', 'C'], ['hiiiii', 9, 8]]\n",
      "[[1, 2, 3], ['A', 'B', 'C'], [0, 9, 8]]\n"
     ]
    }
   ],
   "source": [
    "import copy\n",
    "\n",
    "x= [[1,2,3],['A','B','C'],[0,9,8]]\n",
    "\n",
    "y1 = copy.copy(x)\n",
    "y2 = copy.deepcopy(x)\n",
    "\n",
    "x[2][0] = 'hiiiii'\n",
    "\n",
    "print(x)\n",
    "print(y1) #(Shallow copy affected)\n",
    "print(y2) #(Deep copy unaffected)"
   ]
  },
  {
   "cell_type": "markdown",
   "id": "ffce76d1-7244-49c6-b941-dd035f308b3a",
   "metadata": {},
   "source": [
    "# DICTIONARY \n",
    "# spam = {'color': 'red', 'age': 42}\n"
   ]
  },
  {
   "cell_type": "code",
   "execution_count": 59,
   "id": "ce81355f-ce30-4dc2-be80-3ab2e36ea666",
   "metadata": {},
   "outputs": [],
   "source": [
    " spam = {'color': 'red', 'age': 42}"
   ]
  },
  {
   "cell_type": "markdown",
   "id": "058a290c-f5ff-41cb-b308-c90315a229c3",
   "metadata": {},
   "source": [
    "# values(),keys(),items()"
   ]
  },
  {
   "cell_type": "code",
   "execution_count": 35,
   "id": "a9345a65-787f-4d93-bba3-90a6f01ce270",
   "metadata": {},
   "outputs": [
    {
     "data": {
      "text/plain": [
       "dict_values(['red', 42])"
      ]
     },
     "execution_count": 35,
     "metadata": {},
     "output_type": "execute_result"
    }
   ],
   "source": [
    "spam.values()\n"
   ]
  },
  {
   "cell_type": "code",
   "execution_count": 37,
   "id": "dea8d1df-2cc5-4dce-904b-2551b22888e9",
   "metadata": {},
   "outputs": [
    {
     "name": "stdout",
     "output_type": "stream",
     "text": [
      "dict_values(['red', 42])\n"
     ]
    }
   ],
   "source": [
    "print(spam.values())"
   ]
  },
  {
   "cell_type": "code",
   "execution_count": 33,
   "id": "0d062f60-b385-42fe-9ba6-c580de5706c9",
   "metadata": {},
   "outputs": [
    {
     "name": "stdout",
     "output_type": "stream",
     "text": [
      "red\n",
      "42\n"
     ]
    }
   ],
   "source": [
    "for v in spam.values():\n",
    "    print(v)\n",
    "    \n",
    "  "
   ]
  },
  {
   "cell_type": "code",
   "execution_count": 41,
   "id": "6c29635a-691b-442c-a570-8f380c5c451e",
   "metadata": {},
   "outputs": [
    {
     "data": {
      "text/plain": [
       "dict_keys(['color', 'age'])"
      ]
     },
     "execution_count": 41,
     "metadata": {},
     "output_type": "execute_result"
    }
   ],
   "source": [
    "spam.keys()"
   ]
  },
  {
   "cell_type": "code",
   "execution_count": 43,
   "id": "dd70853a-a2e6-4528-a472-44aab08360ef",
   "metadata": {},
   "outputs": [
    {
     "data": {
      "text/plain": [
       "dict_items([('color', 'red'), ('age', 42)])"
      ]
     },
     "execution_count": 43,
     "metadata": {},
     "output_type": "execute_result"
    }
   ],
   "source": [
    "spam.items()"
   ]
  },
  {
   "cell_type": "code",
   "execution_count": 46,
   "id": "97540a74-2848-4798-9745-84e32ee3a08f",
   "metadata": {},
   "outputs": [
    {
     "data": {
      "text/plain": [
       "True"
      ]
     },
     "execution_count": 46,
     "metadata": {},
     "output_type": "execute_result"
    }
   ],
   "source": [
    "'age' in spam.keys()\n"
   ]
  },
  {
   "cell_type": "markdown",
   "id": "2116130a-30ef-4754-a2b9-2d9552b24481",
   "metadata": {},
   "source": [
    "# get() method in  dictionary\n"
   ]
  },
  {
   "cell_type": "code",
   "execution_count": 67,
   "id": "7427a4fe-3378-41b8-bc43-83211a231e1d",
   "metadata": {},
   "outputs": [
    {
     "data": {
      "text/plain": [
       "'I am have red bag'"
      ]
     },
     "execution_count": 67,
     "metadata": {},
     "output_type": "execute_result"
    }
   ],
   "source": [
    "'I am have ' + spam.get('color','not any') + ' bag'"
   ]
  },
  {
   "cell_type": "code",
   "execution_count": 69,
   "id": "6c2697f3-f594-49e6-82e4-fc7e4ed95a36",
   "metadata": {},
   "outputs": [
    {
     "data": {
      "text/plain": [
       "'I am have not any bag'"
      ]
     },
     "execution_count": 69,
     "metadata": {},
     "output_type": "execute_result"
    }
   ],
   "source": [
    "'I am have ' + spam.get('xyz','not any') + ' bag'\n"
   ]
  },
  {
   "cell_type": "markdown",
   "id": "6cf2b5e1-c77b-47e6-ae7d-3b825b32e00b",
   "metadata": {},
   "source": [
    "# setdefault() \n",
    "# spam = {'color': 'red', 'age': 42}"
   ]
  },
  {
   "cell_type": "code",
   "execution_count": 72,
   "id": "6a44439e-b042-4047-bd29-4d94cfd0f450",
   "metadata": {},
   "outputs": [
    {
     "data": {
      "text/plain": [
       "'red'"
      ]
     },
     "execution_count": 72,
     "metadata": {},
     "output_type": "execute_result"
    }
   ],
   "source": [
    " spam.setdefault('color', 'black') # it will show red instead of black bcz it already present"
   ]
  },
  {
   "cell_type": "code",
   "execution_count": 74,
   "id": "f2ad51f0-822d-4932-b464-7f6e91ecc0ef",
   "metadata": {},
   "outputs": [
    {
     "data": {
      "text/plain": [
       "{'color': 'red', 'age': 42}"
      ]
     },
     "execution_count": 74,
     "metadata": {},
     "output_type": "execute_result"
    }
   ],
   "source": [
    "spam"
   ]
  },
  {
   "cell_type": "code",
   "execution_count": 80,
   "id": "313d7e48-4d71-41d1-b0fe-370782130225",
   "metadata": {},
   "outputs": [
    {
     "data": {
      "text/plain": [
       "'avi'"
      ]
     },
     "execution_count": 80,
     "metadata": {},
     "output_type": "execute_result"
    }
   ],
   "source": [
    "spam.setdefault('name','avi')"
   ]
  },
  {
   "cell_type": "code",
   "execution_count": 82,
   "id": "f5a5cf7c-53d4-4ddf-94af-b9c3b1f94e8c",
   "metadata": {},
   "outputs": [
    {
     "data": {
      "text/plain": [
       "{'color': 'red', 'age': 42, 'name': 'avi'}"
      ]
     },
     "execution_count": 82,
     "metadata": {},
     "output_type": "execute_result"
    }
   ],
   "source": [
    "spam"
   ]
  },
  {
   "cell_type": "markdown",
   "id": "4e1a9946-e0e1-4c22-a9fa-8fe263ad0380",
   "metadata": {},
   "source": [
    "# setdefault() program"
   ]
  },
  {
   "cell_type": "code",
   "execution_count": 7,
   "id": "73863ad1-e98d-4b37-943c-bad8c57bf45e",
   "metadata": {},
   "outputs": [
    {
     "name": "stdout",
     "output_type": "stream",
     "text": [
      "{'I': 1, 't': 6, ' ': 13, 'w': 2, 'a': 4, 's': 3, 'b': 1, 'r': 5, 'i': 6, 'g': 2, 'h': 3, 'c': 3, 'o': 2, 'l': 3, 'd': 3, 'y': 1, 'n': 4, 'A': 1, 'p': 1, ',': 1, 'e': 5, 'k': 2, '.': 1}\n"
     ]
    }
   ],
   "source": [
    "message = 'It was a bright cold day in April, and the clocks were striking thirteen.'\n",
    "count = {}\n",
    "for character in message:\n",
    "    count.setdefault(character, 0)\n",
    "    count[character] = count[character] + 1\n",
    "print(count) "
   ]
  },
  {
   "cell_type": "code",
   "execution_count": 9,
   "id": "6dc5e683-9111-418a-b2e2-6ee4329130f8",
   "metadata": {},
   "outputs": [],
   "source": [
    "import pprint"
   ]
  },
  {
   "cell_type": "code",
   "execution_count": 29,
   "id": "3d405588-2d7c-45c6-927a-f159f680a2f2",
   "metadata": {},
   "outputs": [],
   "source": [
    "dict = {'color': 'black', 'age': 5, 'name': 'Pooka'}"
   ]
  },
  {
   "cell_type": "code",
   "execution_count": 33,
   "id": "b4267610-c5a4-4894-a8e6-102591327856",
   "metadata": {},
   "outputs": [
    {
     "name": "stdout",
     "output_type": "stream",
     "text": [
      "{'age': 5, 'color': 'black', 'name': 'Pooka'}\n"
     ]
    }
   ],
   "source": [
    "pprint.pprint(dict)  #it will show in single line because dic is small and by default come in the single line "
   ]
  },
  {
   "cell_type": "code",
   "execution_count": 3,
   "id": "c0021a75-bbef-4754-9193-02020ad3d4c1",
   "metadata": {},
   "outputs": [
    {
     "name": "stdout",
     "output_type": "stream",
     "text": [
      "Normal print:\n",
      "{'I': 1, 't': 6, ' ': 13, 'w': 2, 'a': 4, 's': 3, 'b': 1, 'r': 5, 'i': 6, 'g': 2, 'h': 3, 'c': 3, 'o': 2, 'l': 3, 'd': 3, 'y': 1, 'n': 4, 'A': 1, 'p': 1, ',': 1, 'e': 5, 'k': 2, '.': 1}\n",
      "\n",
      "Pretty print using pprint.pprint():\n",
      "{' ': 13,\n",
      " ',': 1,\n",
      " '.': 1,\n",
      " 'A': 1,\n",
      " 'I': 1,\n",
      " 'a': 4,\n",
      " 'b': 1,\n",
      " 'c': 3,\n",
      " 'd': 3,\n",
      " 'e': 5,\n",
      " 'g': 2,\n",
      " 'h': 3,\n",
      " 'i': 6,\n",
      " 'k': 2,\n",
      " 'l': 3,\n",
      " 'n': 4,\n",
      " 'o': 2,\n",
      " 'p': 1,\n",
      " 'r': 5,\n",
      " 's': 3,\n",
      " 't': 6,\n",
      " 'w': 2,\n",
      " 'y': 1}\n",
      "\n",
      "Using pprint.pformat() to store and print:\n"
     ]
    },
    {
     "data": {
      "text/plain": [
       "{\"{' ': 13,\\n ',': 1,\\n '.': 1,\\n 'A': 1,\\n 'I': 1,\\n 'a': 4,\\n 'b': 1,\\n 'c': 3,\\n 'd': 3,\\n 'e': 5,\\n 'g': 2,\\n 'h': 3,\\n 'i': 6,\\n 'k': 2,\\n 'l': 3,\\n 'n': 4,\\n 'o': 2,\\n 'p': 1,\\n 'r': 5,\\n 's': 3,\\n 't': 6,\\n 'w': 2,\\n 'y': 1}\"}"
      ]
     },
     "execution_count": 3,
     "metadata": {},
     "output_type": "execute_result"
    }
   ],
   "source": [
    "import pprint\n",
    "\n",
    "message = 'It was a bright cold day in April, and the clocks were striking thirteen.'\n",
    "count = {}\n",
    "\n",
    "for character in message:\n",
    "    count.setdefault(character, 0)\n",
    "    count[character] += 1\n",
    "\n",
    "print(\"Normal print:\")\n",
    "print(count)  # Prints as a long unformatted dictionary\n",
    "\n",
    "print(\"\\nPretty print using pprint.pprint():\")\n",
    "pprint.pprint(count)  # Prints in a readable format\n",
    "\n",
    "print(\"\\nUsing pprint.pformat() to store and print:\")\n",
    "formatted_str = pprint.pformat(count)\n",
    "#print(formatted_str)  # Returns a formatted string instead of printing directly\n",
    "{formatted_str}"
   ]
  },
  {
   "cell_type": "code",
   "execution_count": 35,
   "id": "d54aaf20-19fb-4815-b9ee-2d0f10d035dc",
   "metadata": {},
   "outputs": [
    {
     "name": "stdout",
     "output_type": "stream",
     "text": [
      " | | \n",
      "-+-+-\n",
      " | | \n",
      "-+-+-\n",
      " | | \n"
     ]
    }
   ],
   "source": [
    " theBoard = {'top-L': ' ', 'top-M': ' ', 'top-R': ' ',\n",
    "            'mid-L': ' ', 'mid-M': ' ', 'mid-R': ' ',\n",
    "            'low-L': ' ', 'low-M': ' ', 'low-R': ' '}\n",
    " def printBoard(board):\n",
    "    print(board['top-L'] + '|' + board['top-M'] + '|' + board['top-R'])\n",
    "    print('-+-+-')\n",
    "    print(board['mid-L'] + '|' + board['mid-M'] + '|' + board['mid-R'])\n",
    "    print('-+-+-')\n",
    "    print(board['low-L'] + '|' + board['low-M'] + '|' + board['low-R'])\n",
    " printBoard(theBoard)"
   ]
  },
  {
   "cell_type": "code",
   "execution_count": null,
   "id": "cf7eb3c5-50f3-4cc1-ba25-028f7d2a40dc",
   "metadata": {},
   "outputs": [],
   "source": []
  }
 ],
 "metadata": {
  "kernelspec": {
   "display_name": "Python [conda env:base] *",
   "language": "python",
   "name": "conda-base-py"
  },
  "language_info": {
   "codemirror_mode": {
    "name": "ipython",
    "version": 3
   },
   "file_extension": ".py",
   "mimetype": "text/x-python",
   "name": "python",
   "nbconvert_exporter": "python",
   "pygments_lexer": "ipython3",
   "version": "3.12.7"
  }
 },
 "nbformat": 4,
 "nbformat_minor": 5
}
